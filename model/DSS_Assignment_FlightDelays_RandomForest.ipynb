{
 "cells": [
  {
   "cell_type": "code",
   "execution_count": 1,
   "metadata": {
    "scrolled": true
   },
   "outputs": [
    {
     "data": {
      "text/html": [
       "<div>\n",
       "<style scoped>\n",
       "    .dataframe tbody tr th:only-of-type {\n",
       "        vertical-align: middle;\n",
       "    }\n",
       "\n",
       "    .dataframe tbody tr th {\n",
       "        vertical-align: top;\n",
       "    }\n",
       "\n",
       "    .dataframe thead th {\n",
       "        text-align: right;\n",
       "    }\n",
       "</style>\n",
       "<table border=\"1\" class=\"dataframe\">\n",
       "  <thead>\n",
       "    <tr style=\"text-align: right;\">\n",
       "      <th></th>\n",
       "      <th>DAY_OF_WEEK</th>\n",
       "      <th>AIRLINE</th>\n",
       "      <th>Origin_Airport</th>\n",
       "      <th>ORIGIN_cat</th>\n",
       "      <th>Destination_Airport</th>\n",
       "      <th>DEST_cat</th>\n",
       "      <th>DEP_TIME_BLK</th>\n",
       "      <th>ARR_TIME_BLK</th>\n",
       "      <th>DISTANCE_BLK</th>\n",
       "      <th>ARR_DEL15</th>\n",
       "    </tr>\n",
       "  </thead>\n",
       "  <tbody>\n",
       "    <tr>\n",
       "      <th>0</th>\n",
       "      <td>2</td>\n",
       "      <td>Endeavor Air</td>\n",
       "      <td>Gainesville Regional Airport</td>\n",
       "      <td>12</td>\n",
       "      <td>Hartsfield-Jackson Atlanta International Airport</td>\n",
       "      <td>24</td>\n",
       "      <td>0600-0659</td>\n",
       "      <td>0700-0759</td>\n",
       "      <td>(223.0, 321.0]</td>\n",
       "      <td>0.0</td>\n",
       "    </tr>\n",
       "    <tr>\n",
       "      <th>1</th>\n",
       "      <td>2</td>\n",
       "      <td>Endeavor Air</td>\n",
       "      <td>Minneapolis-Saint Paul International Airport</td>\n",
       "      <td>23</td>\n",
       "      <td>Cincinnati/Northern Kentucky International Air...</td>\n",
       "      <td>22</td>\n",
       "      <td>1400-1459</td>\n",
       "      <td>1600-1659</td>\n",
       "      <td>(526.0, 640.0]</td>\n",
       "      <td>0.0</td>\n",
       "    </tr>\n",
       "    <tr>\n",
       "      <th>2</th>\n",
       "      <td>2</td>\n",
       "      <td>Endeavor Air</td>\n",
       "      <td>Detroit Metropolitan Airport</td>\n",
       "      <td>24</td>\n",
       "      <td>Cincinnati/Northern Kentucky International Air...</td>\n",
       "      <td>22</td>\n",
       "      <td>1200-1259</td>\n",
       "      <td>1300-1359</td>\n",
       "      <td>(223.0, 321.0]</td>\n",
       "      <td>0.0</td>\n",
       "    </tr>\n",
       "    <tr>\n",
       "      <th>3</th>\n",
       "      <td>2</td>\n",
       "      <td>Endeavor Air</td>\n",
       "      <td>Tallahassee International Airport</td>\n",
       "      <td>14</td>\n",
       "      <td>Hartsfield-Jackson Atlanta International Airport</td>\n",
       "      <td>24</td>\n",
       "      <td>1500-1559</td>\n",
       "      <td>1600-1659</td>\n",
       "      <td>(30.0, 223.0]</td>\n",
       "      <td>0.0</td>\n",
       "    </tr>\n",
       "    <tr>\n",
       "      <th>4</th>\n",
       "      <td>2</td>\n",
       "      <td>Endeavor Air</td>\n",
       "      <td>Hartsfield-Jackson Atlanta International Airport</td>\n",
       "      <td>24</td>\n",
       "      <td>Fort Smith Regional Airport</td>\n",
       "      <td>7</td>\n",
       "      <td>1900-1959</td>\n",
       "      <td>1900-1959</td>\n",
       "      <td>(526.0, 640.0]</td>\n",
       "      <td>0.0</td>\n",
       "    </tr>\n",
       "  </tbody>\n",
       "</table>\n",
       "</div>"
      ],
      "text/plain": [
       "   DAY_OF_WEEK       AIRLINE  \\\n",
       "0            2  Endeavor Air   \n",
       "1            2  Endeavor Air   \n",
       "2            2  Endeavor Air   \n",
       "3            2  Endeavor Air   \n",
       "4            2  Endeavor Air   \n",
       "\n",
       "                                     Origin_Airport  ORIGIN_cat  \\\n",
       "0                      Gainesville Regional Airport          12   \n",
       "1      Minneapolis-Saint Paul International Airport          23   \n",
       "2                      Detroit Metropolitan Airport          24   \n",
       "3                 Tallahassee International Airport          14   \n",
       "4  Hartsfield-Jackson Atlanta International Airport          24   \n",
       "\n",
       "                                 Destination_Airport  DEST_cat DEP_TIME_BLK  \\\n",
       "0   Hartsfield-Jackson Atlanta International Airport        24    0600-0659   \n",
       "1  Cincinnati/Northern Kentucky International Air...        22    1400-1459   \n",
       "2  Cincinnati/Northern Kentucky International Air...        22    1200-1259   \n",
       "3   Hartsfield-Jackson Atlanta International Airport        24    1500-1559   \n",
       "4                        Fort Smith Regional Airport         7    1900-1959   \n",
       "\n",
       "  ARR_TIME_BLK    DISTANCE_BLK  ARR_DEL15  \n",
       "0    0700-0759  (223.0, 321.0]        0.0  \n",
       "1    1600-1659  (526.0, 640.0]        0.0  \n",
       "2    1300-1359  (223.0, 321.0]        0.0  \n",
       "3    1600-1659   (30.0, 223.0]        0.0  \n",
       "4    1900-1959  (526.0, 640.0]        0.0  "
      ]
     },
     "execution_count": 1,
     "metadata": {},
     "output_type": "execute_result"
    }
   ],
   "source": [
    "\"\"\"\n",
    "DSS Main Assignment Section 2 - Machine Learning Model - Random Forest Classifier\n",
    "\n",
    "Date Created: 05/06/2022 1:27pm\n",
    "Created by: Christian Shackleton\n",
    "\n",
    "Use data passed from DSS Main Assignment Section 1 - Data Analysis and Exploration, and create a Random Forest\n",
    "model, with the desired outcome to accurately determine whether a flight will arrive ON_TIME or NOT_ON_TIME.\n",
    "\n",
    "\"\"\"\n",
    "\n",
    "### Set up enviroment\n",
    "## Packages Required:\n",
    "import pandas as pd # Dataframe manipulation\n",
    "import numpy as np # Data organisation as multidimensional array object with vectorisation and optimisation\n",
    "import matplotlib.pyplot as plt # Data Visualisation (Graphs, etc.)\n",
    "import seaborn as sns # Data Visualisation (Graphs, etc.)\n",
    "# import pickle # Implementing binary protocols for serializing and de-serializing a Python object structure.\n",
    "\n",
    "from imblearn.over_sampling import SMOTE # For working with unbalanced data\n",
    "from sklearn import tree\n",
    "from sklearn.ensemble import RandomForestClassifier # Random Forrest Algorithm\n",
    "from sklearn.preprocessing import LabelEncoder # Creates numerical lables for classification data\n",
    "from sklearn.preprocessing import LabelBinarizer, MinMaxScaler, StandardScaler\n",
    "from sklearn.model_selection import GridSearchCV # Returns best set of parameters for classifier\n",
    "from sklearn.model_selection import train_test_split # splits data into test and train sets\n",
    "from sklearn.metrics import classification_report, confusion_matrix, accuracy_score, plot_roc_curve # Result Visualisation\n",
    "\n",
    "# import warnings\n",
    "# warnings.simplefilter(action='ignore', category=FutureWarning)\n",
    "\n",
    "# Create datafile using Pandas\n",
    "df1 = pd.read_csv(\"../datasets/Jan_2019_ontime_modified.csv\")\n",
    "\n",
    "pd.set_option('display.max_columns', None) # to force all columns being shown\n",
    "\n",
    "df1.head() #Pandas .head() method is used to return top n (5 by default) rows of a data frame or series.\n"
   ]
  },
  {
   "cell_type": "code",
   "execution_count": null,
   "metadata": {
    "scrolled": true
   },
   "outputs": [],
   "source": []
  },
  {
   "cell_type": "code",
   "execution_count": 2,
   "metadata": {},
   "outputs": [
    {
     "name": "stdout",
     "output_type": "stream",
     "text": [
      "<class 'pandas.core.frame.DataFrame'>\n",
      "RangeIndex: 583985 entries, 0 to 583984\n",
      "Data columns (total 8 columns):\n",
      " #   Column        Non-Null Count   Dtype  \n",
      "---  ------        --------------   -----  \n",
      " 0   DAY_OF_WEEK   583985 non-null  int64  \n",
      " 1   AIRLINE       583985 non-null  object \n",
      " 2   ORIGIN_cat    583985 non-null  int64  \n",
      " 3   DEST_cat      583985 non-null  int64  \n",
      " 4   DEP_TIME_BLK  583985 non-null  object \n",
      " 5   ARR_TIME_BLK  583985 non-null  object \n",
      " 6   DISTANCE_BLK  583985 non-null  object \n",
      " 7   ARR_DEL15     583985 non-null  float64\n",
      "dtypes: float64(1), int64(3), object(4)\n",
      "memory usage: 35.6+ MB\n"
     ]
    }
   ],
   "source": [
    "#  Of the Data present, we will want to keep the following columns for the model:\n",
    "\n",
    "# 'DAY_OF_WEEK' because delay could depend on traffic in specific days: change to weekend, holiday, working_day\n",
    "# 'ORIGIN_cat' Identifies the origin airport Catagory\n",
    "# 'DEST_cat' Identifies the destination airport Catagory\n",
    "# 'AIRLINE' because the airline chosen may impact on frequency of delays/cancelations.\n",
    "# 'DEP_TIME_BLK' because rough time of day is more practical, and will still help indicate busy periods.\n",
    "# 'ARR_TIME_BLK', (created from ARR_TIME) may help indicate busy periods that could delay arrival.\n",
    "# 'ARR_DEL15' the key value to consider for training/predicting.\n",
    "# 'DISTANCE_BLK' (created from DISTANCE) because maybe the distance will have an impact on arrival time accuracy.\n",
    "\n",
    "# Drop\n",
    "df1.drop(['Origin_Airport'], inplace=True, axis=1)\n",
    "df1.drop(['Destination_Airport'], inplace=True, axis=1)\n",
    "\n",
    "df1.info() # Check that data is suitible for Random Forest Model"
   ]
  },
  {
   "cell_type": "code",
   "execution_count": 3,
   "metadata": {},
   "outputs": [
    {
     "data": {
      "text/html": [
       "<div>\n",
       "<style scoped>\n",
       "    .dataframe tbody tr th:only-of-type {\n",
       "        vertical-align: middle;\n",
       "    }\n",
       "\n",
       "    .dataframe tbody tr th {\n",
       "        vertical-align: top;\n",
       "    }\n",
       "\n",
       "    .dataframe thead th {\n",
       "        text-align: right;\n",
       "    }\n",
       "</style>\n",
       "<table border=\"1\" class=\"dataframe\">\n",
       "  <thead>\n",
       "    <tr style=\"text-align: right;\">\n",
       "      <th></th>\n",
       "      <th>DAY_OF_WEEK</th>\n",
       "      <th>AIRLINE</th>\n",
       "      <th>ORIGIN_cat</th>\n",
       "      <th>DEST_cat</th>\n",
       "      <th>DEP_TIME_BLK</th>\n",
       "      <th>ARR_TIME_BLK</th>\n",
       "      <th>DISTANCE_BLK</th>\n",
       "      <th>ARR_DEL15</th>\n",
       "    </tr>\n",
       "  </thead>\n",
       "  <tbody>\n",
       "    <tr>\n",
       "      <th>0</th>\n",
       "      <td>1</td>\n",
       "      <td>6</td>\n",
       "      <td>12</td>\n",
       "      <td>24</td>\n",
       "      <td>1</td>\n",
       "      <td>2</td>\n",
       "      <td>2</td>\n",
       "      <td>0</td>\n",
       "    </tr>\n",
       "    <tr>\n",
       "      <th>1</th>\n",
       "      <td>1</td>\n",
       "      <td>6</td>\n",
       "      <td>23</td>\n",
       "      <td>22</td>\n",
       "      <td>9</td>\n",
       "      <td>11</td>\n",
       "      <td>6</td>\n",
       "      <td>0</td>\n",
       "    </tr>\n",
       "    <tr>\n",
       "      <th>2</th>\n",
       "      <td>1</td>\n",
       "      <td>6</td>\n",
       "      <td>24</td>\n",
       "      <td>22</td>\n",
       "      <td>7</td>\n",
       "      <td>8</td>\n",
       "      <td>2</td>\n",
       "      <td>0</td>\n",
       "    </tr>\n",
       "    <tr>\n",
       "      <th>3</th>\n",
       "      <td>1</td>\n",
       "      <td>6</td>\n",
       "      <td>14</td>\n",
       "      <td>24</td>\n",
       "      <td>10</td>\n",
       "      <td>11</td>\n",
       "      <td>3</td>\n",
       "      <td>0</td>\n",
       "    </tr>\n",
       "    <tr>\n",
       "      <th>4</th>\n",
       "      <td>1</td>\n",
       "      <td>6</td>\n",
       "      <td>24</td>\n",
       "      <td>7</td>\n",
       "      <td>14</td>\n",
       "      <td>14</td>\n",
       "      <td>6</td>\n",
       "      <td>0</td>\n",
       "    </tr>\n",
       "  </tbody>\n",
       "</table>\n",
       "</div>"
      ],
      "text/plain": [
       "   DAY_OF_WEEK  AIRLINE  ORIGIN_cat  DEST_cat  DEP_TIME_BLK  ARR_TIME_BLK  \\\n",
       "0            1        6          12        24             1             2   \n",
       "1            1        6          23        22             9            11   \n",
       "2            1        6          24        22             7             8   \n",
       "3            1        6          14        24            10            11   \n",
       "4            1        6          24         7            14            14   \n",
       "\n",
       "   DISTANCE_BLK  ARR_DEL15  \n",
       "0             2          0  \n",
       "1             6          0  \n",
       "2             2          0  \n",
       "3             3          0  \n",
       "4             6          0  "
      ]
     },
     "execution_count": 3,
     "metadata": {},
     "output_type": "execute_result"
    }
   ],
   "source": [
    "### Preparing Model - Random Forest\n",
    "## Data Cleaning & Conversion\n",
    "# Conversion of Numerical data to Catagorical Data for Machine Learning Segment\n",
    "# label encode ARR_TIME_BLK, DEP_TIME_BLK, DISTANCE_BLK\n",
    "le = LabelEncoder() # Convert catregorical data to numeric using self assigned numeric values for each class. Also for numeric data\n",
    "\n",
    "for i in df1.columns:\n",
    "    df1[i] = le.fit_transform(df1[i]) # Fits and Transforms all data columns to their corresponding encoded numeric values\n",
    "\n",
    "df1.head()"
   ]
  },
  {
   "cell_type": "code",
   "execution_count": null,
   "metadata": {},
   "outputs": [],
   "source": []
  },
  {
   "cell_type": "code",
   "execution_count": 4,
   "metadata": {
    "scrolled": false
   },
   "outputs": [
    {
     "name": "stdout",
     "output_type": "stream",
     "text": [
      "Correlation of data with 'ARR_DEL15'\n"
     ]
    },
    {
     "data": {
      "text/plain": [
       "<AxesSubplot:>"
      ]
     },
     "execution_count": 4,
     "metadata": {},
     "output_type": "execute_result"
    },
    {
     "data": {
      "image/png": "[encoded data removed]",
      "text/plain": [
       "<Figure size 720x576 with 1 Axes>"
      ]
     },
     "metadata": {
      "needs_background": "light"
     },
     "output_type": "display_data"
    }
   ],
   "source": [
    "# Check correlation of data with 'ARR_DEL15'\n",
    "print(\"Correlation of data with 'ARR_DEL15'\")\n",
    "df1.corrwith(df1['ARR_DEL15']).sort_values(ascending=False).plot(kind='bar',figsize=(10,8))"
   ]
  },
  {
   "cell_type": "code",
   "execution_count": 5,
   "metadata": {},
   "outputs": [
    {
     "data": {
      "image/png": "[encoded data removed]",
      "text/plain": [
       "<Figure size 1152x432 with 2 Axes>"
      ]
     },
     "metadata": {
      "needs_background": "light"
     },
     "output_type": "display_data"
    }
   ],
   "source": [
    "# Show correlation of data with 'ARR_DEL15' as HeatMap\n",
    "plt.figure(figsize=(16, 6))\n",
    "ax = sns.heatmap(df1.corr(), vmin=-1, vmax=1, annot=True)"
   ]
  },
  {
   "cell_type": "code",
   "execution_count": null,
   "metadata": {},
   "outputs": [],
   "source": []
  },
  {
   "cell_type": "code",
   "execution_count": 6,
   "metadata": {},
   "outputs": [],
   "source": [
    "### Start the model\n",
    "# Set train details\n",
    "X = df1.drop(['ARR_DEL15'], axis=1).values #we want to predict 'ARR_DEL15' from the given samples so exclude 'ARR_DEL15' from features\n",
    "y = df1['ARR_DEL15'] #Make 'ARR_DEL15' as your output y vector\n",
    "\n",
    "y = LabelBinarizer().fit_transform(y) # Ensure that the desired prediction value is binary (1/0, Yes/No)"
   ]
  },
  {
   "cell_type": "code",
   "execution_count": 7,
   "metadata": {},
   "outputs": [
    {
     "name": "stdout",
     "output_type": "stream",
     "text": [
      "Balance of the Dataset (i.e. ratio of ON_TIME or NOT_ON_TIME)\n",
      "\n",
      "Number of Flights that are: NOT_ON_TIME = 121948.\n",
      "Number of Flights that are:     On_TIME = 462037.\n",
      "\n",
      "This equates to 20.88% of all flights.\n",
      "\n",
      "A balanced dataset should have this value as 50%. \n",
      "If very unbalanced, As our data is significantly imbalanced (462037 rows for class '0 = on time' and 121948 \n",
      "rows for class '1 = delayed'), let's use the SMOTE method (Synthetic Minority Oversampling TEchnique) to generate \n",
      "more examples of class 1.\n",
      "\n"
     ]
    }
   ],
   "source": [
    "# Check Balance of the Dataset (i.e. ratio of ON_TIME or NOT_ON_TIME)\n",
    "\n",
    "# df_y.value_counts() # One line that will output values in 1.0 and 0.0 <- Alternative option to verbose code writen below.\n",
    "\n",
    "# Verbose Option\n",
    "df_temp1 = len(df1.loc[(df1['ARR_DEL15'] == 1)])\n",
    "df_temp0 = len(df1.loc[(df1['ARR_DEL15'] == 0)])\n",
    "\n",
    "percentage_temp = df_temp1 / len(df1) * 100\n",
    "\n",
    "text1 = f\"Number of Flights that are: NOT_ON_TIME = {df_temp1}.\"\n",
    "text2 = f\"Number of Flights that are:     On_TIME = {df_temp0}.\\n\"\n",
    "text3 = f\"This equates to {percentage_temp:.2f}% of all flights.\\n\"\n",
    "text4 = f\"\"\"A balanced dataset should have this value as 50%. \n",
    "If very unbalanced, As our data is significantly imbalanced ({df_temp0} rows for class '0 = on time' and {df_temp1} \n",
    "rows for class '1 = delayed'), let's use the SMOTE method (Synthetic Minority Oversampling TEchnique) to generate \n",
    "more examples of class 1.\n",
    "\"\"\"\n",
    "print(\"Balance of the Dataset (i.e. ratio of ON_TIME or NOT_ON_TIME)\\n\")\n",
    "print(text1, text2, text3, text4, sep = '\\n')    "
   ]
  },
  {
   "cell_type": "code",
   "execution_count": 8,
   "metadata": {},
   "outputs": [
    {
     "name": "stdout",
     "output_type": "stream",
     "text": [
      "CPU times: user 16.9 s, sys: 338 ms, total: 17.2 s\n",
      "Wall time: 29.8 s\n"
     ]
    }
   ],
   "source": [
    "%%time\n",
    "# Generate rows for minority class as very unbalanced data.\n",
    "from imblearn.over_sampling import SMOTE\n",
    "\n",
    "smote = SMOTE()\n",
    "X, y = smote.fit_resample(X, y)\n",
    "\n",
    "# df = pd.concat([pd.DataFrame(X), pd.DataFrame(y)], axis=1) # Alternative Option"
   ]
  },
  {
   "cell_type": "code",
   "execution_count": 9,
   "metadata": {
    "scrolled": true
   },
   "outputs": [
    {
     "name": "stdout",
     "output_type": "stream",
     "text": [
      "CPU times: user 508 ms, sys: 86.1 ms, total: 595 ms\n",
      "Wall time: 645 ms\n"
     ]
    }
   ],
   "source": [
    "%%time\n",
    "## Split Data into Test and Train\n",
    "X_train, X_test, y_train, y_test = train_test_split(X, y, test_size=0.2, shuffle=True)\n",
    "\n",
    "# All decision tree models use float32 (sklearn documentation) as input, preferably with gaussian distribution. \n",
    "# So we convert data points into this form (with all features in 0 - 1 range).\n",
    "X = StandardScaler().fit_transform(X)\n",
    "X = MinMaxScaler().fit_transform(X)"
   ]
  },
  {
   "cell_type": "code",
   "execution_count": 10,
   "metadata": {},
   "outputs": [
    {
     "name": "stdout",
     "output_type": "stream",
     "text": [
      "CPU times: user 5min 3s, sys: 7.94 s, total: 5min 11s\n",
      "Wall time: 6min 39s\n"
     ]
    }
   ],
   "source": [
    "%%time\n",
    "# Train the model on train set without using GridSearchCV \n",
    "rfc = RandomForestClassifier(random_state=42) # Include any parameter desired at every run.\n",
    "rfc = rfc.fit(X_train, y_train)\n",
    "\n",
    "predictions = rfc.predict(X_test) #Predictions on Testing data, aka y_test_predict\n",
    "predictions_p = rfc.predict_proba(X_test) #Predictions on Testing data, aka y_test_predict_p"
   ]
  },
  {
   "cell_type": "code",
   "execution_count": 11,
   "metadata": {},
   "outputs": [
    {
     "name": "stdout",
     "output_type": "stream",
     "text": [
      "Confusion Matrix for RandomForestClassifier\n",
      "\n",
      "Confusion Matrix is an N x N table (where N is the number of classes) visualisation, that contains \n",
      "the number of correct and incorrect predictions of the classification model. It is used to judge the \n",
      "performance of Classification Machine Learning Algorithms. It represents the summary of the predictions \n",
      "performed by the classification models.\n",
      "\n",
      "The diagonal from the top left to the bottom right contains the observations correctly predicted.\n",
      "TRUE NEGATIVE (TN): The values which are actually negative and also predicted as negative.\n",
      "FALSE NEGATIVE (FN): The values which are actually positive but predicted as negative.\n",
      "FALSE POSITIVE (FP): The values which are actually negative but predicted as positive.\n",
      "TRUE POSITIVE (TP): The values which are actually positive and predicted as positive too.\n",
      "\n",
      "[[78236 14195]\n",
      " [11849 80535]]\n",
      "AxesSubplot(0.125,0.125;0.62x0.755)\n",
      "CPU times: user 331 ms, sys: 20.1 ms, total: 351 ms\n",
      "Wall time: 259 ms\n"
     ]
    },
    {
     "data": {
      "image/png": "[encoded data removed]",
      "text/plain": [
       "<Figure size 432x288 with 2 Axes>"
      ]
     },
     "metadata": {
      "needs_background": "light"
     },
     "output_type": "display_data"
    }
   ],
   "source": [
    "%%time\n",
    "# Print confusion matrix\n",
    "text1 = \"Confusion Matrix for RandomForestClassifier\"\n",
    "text2 = \"\"\"\n",
    "Confusion Matrix is an N x N table (where N is the number of classes) visualisation, that contains \n",
    "the number of correct and incorrect predictions of the classification model. It is used to judge the \n",
    "performance of Classification Machine Learning Algorithms. It represents the summary of the predictions \n",
    "performed by the classification models.\"\"\"\n",
    "text3 = \"\"\"\n",
    "The diagonal from the top left to the bottom right contains the observations correctly predicted.\n",
    "TRUE NEGATIVE (TN): The values which are actually negative and also predicted as negative.\n",
    "FALSE NEGATIVE (FN): The values which are actually positive but predicted as negative.\n",
    "FALSE POSITIVE (FP): The values which are actually negative but predicted as positive.\n",
    "TRUE POSITIVE (TP): The values which are actually positive and predicted as positive too.\n",
    "\"\"\"\n",
    "\n",
    "print(text1, text2, text3, sep = '\\n')\n",
    "print(confusion_matrix(y_test,predictions), sep = '\\n')\n",
    "print(sns.heatmap(confusion_matrix(y_test, predictions), annot = True))"
   ]
  },
  {
   "cell_type": "code",
   "execution_count": 12,
   "metadata": {},
   "outputs": [
    {
     "name": "stdout",
     "output_type": "stream",
     "text": [
      "Classification Report (prediction results) for RandomForestClassifier \n",
      "The Classification Report is a numerical returns information on the accuracy level, precision rate, recall and \n",
      "F1-score for each class.\n",
      "\n",
      "It is important to keep in mind whether the dataset is class balanced when using accuracy to evaluate a \n",
      "classification model, as it is easily informative when the classes are balanced but it can be misleading when the \n",
      "classes are unbalanced.\n",
      "For example, if in a dataset only 5% of the observations are positive, and the accuracy is 90%, then this means \n",
      "that a model which returns false for ever sample will have a accuracy of 95%, but it will be of no use.\n",
      " \n",
      "Classification Metrics\n",
      "Accuracy — It is defined as the value which shows the percentage of successful prediction from the input provided.\n",
      "Accuracy = TP + TN / (TP + TN + FP + FN)\n",
      "\n",
      "Precision score — It is the value that defines the set of values that are rightly predicted as True and also \n",
      "happens to be True in the actual set. By precision, we mean to understand that the positive values are indeed \n",
      "predicted as positive.\n",
      "Precision = TP / (TP + FP)\n",
      "\n",
      "Recall score — It is the value that represents a set of values that are actually True and also predicted correctly \n",
      "as True, By recall, we mean to understand that the particular class of samples is correctly predicted.\n",
      "Recall = TP / (TP +FN)\n",
      "\n",
      "F1 score\n",
      "F1 score helps us rate the accuracy and efficiency of the model when the data is imbalanced. It is actually the \n",
      "harmonic mean of Precision and Recall scores.\n",
      "F1 = 2*(Recall * Precision) / (Recall + Precision)\n",
      "\n",
      "\n",
      "              precision    recall  f1-score   support\n",
      "\n",
      "           0       0.87      0.85      0.86     92431\n",
      "           1       0.85      0.87      0.86     92384\n",
      "\n",
      "    accuracy                           0.86    184815\n",
      "   macro avg       0.86      0.86      0.86    184815\n",
      "weighted avg       0.86      0.86      0.86    184815\n",
      "\n",
      "CPU times: user 434 ms, sys: 19.9 ms, total: 454 ms\n",
      "Wall time: 558 ms\n"
     ]
    }
   ],
   "source": [
    "%%time\n",
    "# Print Classification Report (prediction results)\n",
    "text1 = \"Classification Report (prediction results) for RandomForestClassifier\"\n",
    "text2 = \"\"\"\n",
    "The Classification Report is a numerical returns information on the accuracy level, precision rate, recall and \n",
    "F1-score for each class.\n",
    "\n",
    "It is important to keep in mind whether the dataset is class balanced when using accuracy to evaluate a \n",
    "classification model, as it is easily informative when the classes are balanced but it can be misleading when the \n",
    "classes are unbalanced.\n",
    "For example, if in a dataset only 5% of the observations are positive, and the accuracy is 90%, then this means \n",
    "that a model which returns false for ever sample will have a accuracy of 95%, but it will be of no use.\n",
    "\"\"\"\n",
    "text3 = \"\"\"\n",
    "Classification Metrics\n",
    "Accuracy — It is defined as the value which shows the percentage of successful prediction from the input provided.\n",
    "Accuracy = TP + TN / (TP + TN + FP + FN)\n",
    "\n",
    "Precision score — It is the value that defines the set of values that are rightly predicted as True and also \n",
    "happens to be True in the actual set. By precision, we mean to understand that the positive values are indeed \n",
    "predicted as positive.\n",
    "Precision = TP / (TP + FP)\n",
    "\n",
    "Recall score — It is the value that represents a set of values that are actually True and also predicted correctly \n",
    "as True, By recall, we mean to understand that the particular class of samples is correctly predicted.\n",
    "Recall = TP / (TP +FN)\n",
    "\n",
    "F1 score\n",
    "F1 score helps us rate the accuracy and efficiency of the model when the data is imbalanced. It is actually the \n",
    "harmonic mean of Precision and Recall scores.\n",
    "F1 = 2*(Recall * Precision) / (Recall + Precision)\n",
    "\n",
    "\"\"\"\n",
    "\n",
    "print(text1, text2, text3)\n",
    "print(classification_report(y_test, predictions))"
   ]
  },
  {
   "cell_type": "code",
   "execution_count": 13,
   "metadata": {},
   "outputs": [
    {
     "name": "stdout",
     "output_type": "stream",
     "text": [
      "AUC graph for RandomForestClassifier - Default Parameters \n",
      "When input data is highly skewed, any model can reach good accuracy by always predicting the same class. \n",
      "In our particular case, we are trying to predict the minority class well for the model to be useful.\n",
      "\n",
      "Therefore the most relevant metric is AUC, or Area Under the Curve:\n",
      "\n",
      "If AUC=50% the model is useless as it is wrong 50% of the time.\n",
      "If AUC=100% the model is perfect, it identifies both classes right every time.\n",
      " \n",
      "ROC stands for Receiver Operating Characteristic curve. This is a graph that shows the performance of a \n",
      "machine learning model on a classification problem by plotting the true positive rate and the false positive  \n",
      "rate. AUC stands for Area Under the Curve. It is used to measure the entire area under the ROC curve.\n",
      "\n",
      "The ROC curve plots the true positive rate and the false positive rate at different classification thresholds, \n",
      "whereas the AUC shows an aggregate measure of the performance of a machine learning model across all the possible \n",
      "classification thresholds.\n",
      "\n",
      "\n"
     ]
    },
    {
     "name": "stderr",
     "output_type": "stream",
     "text": [
      "/opt/anaconda3/envs/ML_DS_env/lib/python3.7/site-packages/sklearn/utils/deprecation.py:87: FutureWarning: Function plot_roc_curve is deprecated; Function :func:`plot_roc_curve` is deprecated in 1.0 and will be removed in 1.2. Use one of the class methods: :meth:`sklearn.metric.RocCurveDisplay.from_predictions` or :meth:`sklearn.metric.RocCurveDisplay.from_estimator`.\n",
      "  warnings.warn(msg, category=FutureWarning)\n"
     ]
    },
    {
     "name": "stdout",
     "output_type": "stream",
     "text": [
      "CPU times: user 11.7 s, sys: 271 ms, total: 12 s\n",
      "Wall time: 13.9 s\n"
     ]
    },
    {
     "data": {
      "text/plain": [
       "<sklearn.metrics._plot.roc_curve.RocCurveDisplay at 0x1397b1b10>"
      ]
     },
     "execution_count": 13,
     "metadata": {},
     "output_type": "execute_result"
    },
    {
     "data": {
      "image/png": "[encoded data removed]",
      "text/plain": [
       "<Figure size 432x288 with 1 Axes>"
      ]
     },
     "metadata": {
      "needs_background": "light"
     },
     "output_type": "display_data"
    }
   ],
   "source": [
    "%%time\n",
    "# Visual Outputs\n",
    "text1 = \"AUC graph for RandomForestClassifier - Default Parameters\"\n",
    "text2 = \"\"\"\n",
    "When input data is highly skewed, any model can reach good accuracy by always predicting the same class. \n",
    "In our particular case, we are trying to predict the minority class well for the model to be useful.\n",
    "\n",
    "Therefore the most relevant metric is AUC, or Area Under the Curve:\n",
    "\n",
    "If AUC=50% the model is useless as it is wrong 50% of the time.\n",
    "If AUC=100% the model is perfect, it identifies both classes right every time.\n",
    "\"\"\"\n",
    "text3 = \"\"\"\n",
    "ROC stands for Receiver Operating Characteristic curve. This is a graph that shows the performance of a \n",
    "machine learning model on a classification problem by plotting the true positive rate and the false positive  \n",
    "rate. AUC stands for Area Under the Curve. It is used to measure the entire area under the ROC curve.\n",
    "\n",
    "The ROC curve plots the true positive rate and the false positive rate at different classification thresholds, \n",
    "whereas the AUC shows an aggregate measure of the performance of a machine learning model across all the possible \n",
    "classification thresholds.\n",
    "\n",
    "\"\"\"\n",
    "\n",
    "print(text1, text2, text3,)\n",
    "\n",
    "plot_roc_curve(rfc, X_test, y_test) # Show AUC graph"
   ]
  },
  {
   "cell_type": "code",
   "execution_count": null,
   "metadata": {},
   "outputs": [],
   "source": [
    "#### As this result AUC is very high, we won't bother varying the parameters to try a better result."
   ]
  },
  {
   "cell_type": "code",
   "execution_count": null,
   "metadata": {},
   "outputs": [],
   "source": [
    "# %%time # This Step may take a while, relative to the number of estimators... e.g. with 300 total trees calculated, 3 times as long as default. so 15 mins?\n",
    "# ## Determine if better parameters can be found.\n",
    "# # Define Model hyperparameter range (i.e. any parmeter to be varied)\n",
    "# # Note, each RandomForest generates \n",
    "# params_to_test = {'n_estimators':[50, 100, 150]} # n_estimators is the number of trees in the forest\n",
    "                  \n",
    "# grid_search = GridSearchCV(estimator = rfc, param_grid=params_to_test, n_jobs=1) # Specify the CV parameters. n_jobs=-1 uses all cores.                           \n",
    "\n",
    "# # fitting the model for grid search\n",
    "# grid_search.fit(X_train, y_train)\n",
    "\n",
    "# # Run RandomForestClassifier with determined best parameters.\n",
    "# rfc_best_model = grid_search.best_estimator_ # This is already the best model, stored in the estimator. No need to rerun.\n",
    "\n",
    "# print(\"Best parameters tested were:\")\n",
    "# # best_params = grid_search.best_params_ # Best parameters for model as a dict.\n",
    "# # best_model = RandomForestClassifier(**best_params) #best_params is a dict you can pass directly to train a model with optimal settings\n",
    "\n",
    "# # Print prediction results \n",
    "# predictions = rfc_best_model.predict(X_test) \n",
    "# print(classification_report(y_test, predictions))\n",
    "\n",
    "# plot_roc_curve(rfc, X_test, y_test) # Show AUC graph"
   ]
  },
  {
   "cell_type": "code",
   "execution_count": null,
   "metadata": {},
   "outputs": [],
   "source": []
  },
  {
   "cell_type": "code",
   "execution_count": null,
   "metadata": {},
   "outputs": [],
   "source": []
  },
  {
   "cell_type": "code",
   "execution_count": null,
   "metadata": {},
   "outputs": [],
   "source": [
    "### Model Analysis - Fill in after running model\n",
    "\n",
    "\"\"\"\n",
    "Why use a Random Forest model?\n",
    "Because there are numerous reasons for a flight not arriving on time, many of which cannot be predicted with any \n",
    "accuracy in the weeks or months before, such as when a person may be planning and booking a flight, we cannot \n",
    "easily with proper accuracy determine the required parameters and weightings the various inderpendant variables \n",
    "may have in their effect on the dependant variable.\n",
    "\n",
    "In statistical machine learning, of which Decision Tree Classifiers and KN-N algorithms are a part of, the model \n",
    "is data-driven, in there is no predefined data model or structure assumed before fitting into data. This is then \n",
    "well suited to working with pure data and unknown connections that are present in the flight datasets. Likewise, \n",
    "because a person willnot know the previous states of the flights and airplanes before their flight, typical \n",
    "regression models can struggle.\n",
    "\n",
    "In short, for this type of machine learned data, the tree model has two appealing aspects: \n",
    " - Tree models provide a visual tool for exploring the data, to gain an idea of what variables are important and \n",
    "how they relate to one another. Trees can capture nonlinear relationships among predictor variables.\n",
    "\n",
    " - Tree models provide a set of rules that can be effectively communicated to non‐ specialists, either for \n",
    "implementation or to “sell” a data mining project.\n",
    "\n",
    "\n",
    "Why not use Single Tree?\n",
    "Due to the high level of unbalance in our data, using single tree would most likely lead to a biased outcome. \n",
    "Random Forest, by running many single trees and using the averages, helps to minimise this risk.\n",
    "\n",
    "\n",
    "Why use AUC?\n",
    "ROC stands for Receiver Operating Characteristic curve. This is a graph that shows the performance of a \n",
    "machine learning model on a classification problem by plotting the true positive rate and the false positive  \n",
    "rate. AUC stands for Area Under the Curve. It is used to measure the entire area under the ROC curve.\n",
    "\n",
    "The ROC curve plots the true positive rate and the false positive rate at different classification thresholds, \n",
    "whereas the AUC shows an aggregate measure of the performance of a machine learning model across all the possible \n",
    "classification thresholds.\n",
    "\n",
    "In this case, the cost of a False Positive or a True Negative is not critical, so this is a useful way of judging\n",
    "the model for many people, any of whom may have a different degree of care as to whether a flight arrives on time \n",
    "or not.\n",
    "\n",
    "\n",
    "What about Entropy, Gini index, or F1 Score?\n",
    "------------- to be written ------------------\n",
    "\n",
    "\"\"\""
   ]
  },
  {
   "cell_type": "code",
   "execution_count": null,
   "metadata": {},
   "outputs": [],
   "source": []
  }
 ],
 "metadata": {
  "kernelspec": {
   "display_name": "Python 3 (ipykernel)",
   "language": "python",
   "name": "python3"
  },
  "language_info": {
   "codemirror_mode": {
    "name": "ipython",
    "version": 3
   },
   "file_extension": ".py",
   "mimetype": "text/x-python",
   "name": "python",
   "nbconvert_exporter": "python",
   "pygments_lexer": "ipython3",
   "version": "3.7.12"
  }
 },
 "nbformat": 4,
 "nbformat_minor": 4
}
